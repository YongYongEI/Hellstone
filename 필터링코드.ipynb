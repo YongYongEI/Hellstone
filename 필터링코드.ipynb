{
 "cells": [
  {
   "cell_type": "code",
   "execution_count": null,
   "id": "0f397bf0",
   "metadata": {},
   "outputs": [],
   "source": [
    "import pandas as pd\n",
    "\n",
    "file_path = '12_23_death.csv'  # 실제 파일 경로로 변경하세요\n",
    "\n",
    "try:\n",
    "    df = pd.read_csv(file_path, encoding='cp949')\n",
    "except UnicodeDecodeError:\n",
    "    try:\n",
    "        df = pd.read_csv(file_path, encoding='euc-kr')\n",
    "    except UnicodeDecodeError as e:\n",
    "        exit()\n",
    "\n",
    "# 대전 지역 데이터 필터링\n",
    "filtered_df = df[df['발생지시도'] == '대전']\n",
    "filtered_df\n"
   ]
  }
 ],
 "metadata": {
  "kernelspec": {
   "display_name": "Python 3 (ipykernel)",
   "language": "python",
   "name": "python3"
  },
  "language_info": {
   "codemirror_mode": {
    "name": "ipython",
    "version": 3
   },
   "file_extension": ".py",
   "mimetype": "text/x-python",
   "name": "python",
   "nbconvert_exporter": "python",
   "pygments_lexer": "ipython3",
   "version": "3.8.15"
  }
 },
 "nbformat": 4,
 "nbformat_minor": 5
}
